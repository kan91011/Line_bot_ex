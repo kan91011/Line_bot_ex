{
 "cells": [
  {
   "cell_type": "code",
   "execution_count": 48,
   "metadata": {},
   "outputs": [],
   "source": [
    "'''\n",
    "\n",
    "輸入圖文選單的資料夾名，若已創建過的，請勿輸入，避免重複創造\n",
    "\n",
    "'''\n",
    "\n",
    "rich_menu_array=['rich_menu_sbl']\n"
   ]
  },
  {
   "cell_type": "code",
   "execution_count": 49,
   "metadata": {
    "scrolled": true
   },
   "outputs": [
    {
     "name": "stdout",
     "output_type": "stream",
     "text": [
      "-設定檔上傳結果\n",
      "richmenu-e12246ab478db32a0898fff6fe85b864\n",
      "-圖片上傳結果\n",
      "None\n"
     ]
    }
   ],
   "source": [
    "'''\n",
    "迴圈讀取本地列表，\n",
    "    上傳設定檔，取得id，並將id寫入檔案中，而後上傳圖片\n",
    "\n",
    "'''\n",
    "\n",
    "import json\n",
    "from linebot import LineBotApi\n",
    "\n",
    "# 載入安全設定檔\n",
    "secretFileContentJson=json.load(open(\"./line_secret_key\",'r',encoding='utf8'))\n",
    "line_bot_api = LineBotApi(secretFileContentJson.get(\"channel_access_token\"))\n",
    "\n",
    "from linebot.models import RichMenu\n",
    "\n",
    "for rich_menu_name in rich_menu_array:\n",
    "\n",
    "    \n",
    "    # 創建菜單，取得menuId\n",
    "    lineRichMenuId = line_bot_api.create_rich_menu(rich_menu=RichMenu.new_from_json_dict(json.load(open(\"material/\"+rich_menu_name+'/rich_menu.json','r',encoding='utf8'))))\n",
    "    print(\"-設定檔上傳結果\")\n",
    "    print(lineRichMenuId)\n",
    "\n",
    "                                           \n",
    "    # id寫入本地端                              \n",
    "    f = open(\"material/\"+rich_menu_name+\"/rich_menu_id\", \"w\",encoding='utf8')\n",
    "    f.write(lineRichMenuId)\n",
    "    f.close()                                       \n",
    "    \n",
    "\n",
    "    # 上傳照片至該id\n",
    "    set_image_response=''\n",
    "    with open(\"material/\"+rich_menu_name+'/rich_menu.jpg', 'rb') as f:\n",
    "        set_image_response=line_bot_api.set_rich_menu_image(lineRichMenuId, 'image/jpeg', f)\n",
    "        \n",
    "    print(\"-圖片上傳結果\")                                               \n",
    "    print(set_image_response)\n",
    "                                                                 \n"
   ]
  },
  {
   "cell_type": "code",
   "execution_count": 50,
   "metadata": {},
   "outputs": [
    {
     "data": {
      "text/plain": [
       "[{\"areas\": [{\"action\": {\"text\": \"\\u6211\\u60f3\\u770b\\u4eca\\u5929NBA\\u7684\\u8cfd\\u7a0b\", \"type\": \"message\"}, \"bounds\": {\"height\": 836, \"width\": 836, \"x\": 4, \"y\": 0}}, {\"action\": {\"text\": \"\\u6211\\u60f3\\u770b\\u4eca\\u5929NBA\\u6bd4\\u5206\", \"type\": \"message\"}, \"bounds\": {\"height\": 832, \"width\": 832, \"x\": 841, \"y\": 4}}, {\"action\": {\"text\": \"\\u6211\\u8981\\u770bNBA\\u6230\\u7e3e\\u6392\\u884c\", \"type\": \"message\"}, \"bounds\": {\"height\": 828, \"width\": 836, \"x\": 1664, \"y\": 8}}, {\"action\": {\"text\": \"\\u6211\\u60f3\\u770b\\u4eca\\u5929NBA\\u7684\\u8cfd\\u4e8b\", \"type\": \"message\"}, \"bounds\": {\"height\": 842, \"width\": 844, \"x\": 5, \"y\": 828}}, {\"action\": {\"text\": \"\\u6211\\u60f3\\u8981\\u770b\\u4f60\\u767c\\u529f\\u9810\\u6e2c!!\", \"type\": \"message\"}, \"bounds\": {\"height\": 832, \"width\": 820, \"x\": 844, \"y\": 836}}, {\"action\": {\"data\": \"menu=rich_menu_index\", \"text\": \"\\u6211\\u8981\\u770b\\u5225\\u7684\\u806f\\u76df\", \"type\": \"postback\"}, \"bounds\": {\"height\": 836, \"width\": 836, \"x\": 1660, \"y\": 832}}], \"chatBarText\": \"\\u67e5\\u770b\\u66f4\\u591a\\u8cc7\\u8a0a\", \"name\": \"\\u5716\\u6587\\u9078\\u55ae 3\", \"richMenuId\": \"richmenu-f2019f49680b00edbd73f6b20900c05b\", \"selected\": true, \"size\": {\"height\": 1686, \"width\": 2500}},\n",
       " {\"areas\": [{\"action\": {\"text\": \"\\u6211\\u60f3\\u770b\\u4eca\\u5929sbl\\u7684\\u8cfd\\u7a0b\", \"type\": \"message\"}, \"bounds\": {\"height\": 836, \"width\": 836, \"x\": 4, \"y\": 0}}, {\"action\": {\"text\": \"\\u6211\\u60f3\\u770b\\u4eca\\u5929sbl\\u6bd4\\u5206\", \"type\": \"message\"}, \"bounds\": {\"height\": 832, \"width\": 832, \"x\": 841, \"y\": 4}}, {\"action\": {\"text\": \"\\u6211\\u8981\\u770bsbl\\u6230\\u7e3e\\u6392\\u884c\", \"type\": \"message\"}, \"bounds\": {\"height\": 828, \"width\": 836, \"x\": 1664, \"y\": 8}}, {\"action\": {\"text\": \"\\u6211\\u60f3\\u770b\\u4eca\\u5929sbl\\u7684\\u8cfd\\u4e8b\", \"type\": \"message\"}, \"bounds\": {\"height\": 842, \"width\": 844, \"x\": 5, \"y\": 828}}, {\"action\": {\"text\": \"\\u6211\\u60f3\\u8981\\u770b\\u4f60\\u767c\\u529f\\u9810\\u6e2csbl!!\", \"type\": \"message\"}, \"bounds\": {\"height\": 832, \"width\": 820, \"x\": 844, \"y\": 836}}, {\"action\": {\"data\": \"menu=rich_menu_index\", \"text\": \"\\u6211\\u8981\\u770b\\u5225\\u7684\\u806f\\u76df\", \"type\": \"postback\"}, \"bounds\": {\"height\": 836, \"width\": 836, \"x\": 1660, \"y\": 832}}], \"chatBarText\": \"\\u67e5\\u770b\\u66f4\\u591a\\u8cc7\\u8a0a\", \"name\": \"\\u5716\\u6587\\u9078\\u55ae 3\", \"richMenuId\": \"richmenu-e12246ab478db32a0898fff6fe85b864\", \"selected\": true, \"size\": {\"height\": 1686, \"width\": 2500}},\n",
       " {\"areas\": [{\"action\": {\"data\": \"menu=rich_menu_sbl\", \"text\": \"\\u6211\\u8981\\u770bSBL\", \"type\": \"postback\"}, \"bounds\": {\"height\": 921, \"width\": 990, \"x\": 4, \"y\": 0}}, {\"action\": {\"data\": \"menu=rich_menu_nba\", \"text\": \"\\u6211\\u8981\\u770bNBA\", \"type\": \"postback\"}, \"bounds\": {\"height\": 905, \"width\": 1043, \"x\": 994, \"y\": 8}}, {\"action\": {\"data\": \"menu=rich_menu_cpbl\", \"text\": \"\\u6211\\u8981\\u770b\\u4e2d\\u83ef\\u8077\\u68d2\", \"type\": \"postback\"}, \"bounds\": {\"height\": 723, \"width\": 986, \"x\": 4, \"y\": 921}}, {\"action\": {\"data\": \"menu=rich_menu_mlb\", \"text\": \"\\u6211\\u8981\\u770bMLB\", \"type\": \"postback\"}, \"bounds\": {\"height\": 732, \"width\": 1051, \"x\": 990, \"y\": 917}}], \"chatBarText\": \"\\u67e5\\u770b\\u66f4\\u591a\\u8cc7\\u8a0a\", \"name\": \"\\u5716\\u6587\\u9078\\u55ae 4\", \"richMenuId\": \"richmenu-fac322039c821b19f9d486ce2264cbe1\", \"selected\": true, \"size\": {\"height\": 1686, \"width\": 2500}},\n",
       " {\"areas\": [{\"action\": {\"text\": \"\\u6211\\u60f3\\u770b\\u4eca\\u5929\\u4e2d\\u8077\\u7684\\u8cfd\\u7a0b\", \"type\": \"message\"}, \"bounds\": {\"height\": 836, \"width\": 836, \"x\": 4, \"y\": 0}}, {\"action\": {\"text\": \"\\u6211\\u60f3\\u770b\\u4eca\\u5929\\u4e2d\\u8077\\u6bd4\\u5206\", \"type\": \"message\"}, \"bounds\": {\"height\": 832, \"width\": 832, \"x\": 836, \"y\": 4}}, {\"action\": {\"text\": \"\\u6211\\u8981\\u770b\\u4e2d\\u8077\\u6230\\u7e3e\\u6392\\u884c\", \"type\": \"message\"}, \"bounds\": {\"height\": 828, \"width\": 836, \"x\": 1664, \"y\": 8}}, {\"action\": {\"text\": \"\\u6211\\u60f3\\u770b\\u4eca\\u5929\\u4e2d\\u8077\\u7684\\u8cfd\\u4e8b\", \"type\": \"message\"}, \"bounds\": {\"height\": 842, \"width\": 844, \"x\": 5, \"y\": 828}}, {\"action\": {\"text\": \"\\u6211\\u60f3\\u8981\\u770b\\u4f60\\u767c\\u529f\\u9810\\u6e2c\\u4e2d\\u83ef\\u8077\\u68d2!!\", \"type\": \"message\"}, \"bounds\": {\"height\": 832, \"width\": 820, \"x\": 844, \"y\": 836}}, {\"action\": {\"data\": \"menu=rich_menu_index\", \"text\": \"\\u6211\\u8981\\u770b\\u5225\\u7684\\u806f\\u76df\", \"type\": \"postback\"}, \"bounds\": {\"height\": 836, \"width\": 836, \"x\": 1660, \"y\": 832}}], \"chatBarText\": \"\\u67e5\\u770b\\u66f4\\u591a\\u8cc7\\u8a0a\", \"name\": \"\\u5716\\u6587\\u9078\\u55ae 3\", \"richMenuId\": \"richmenu-64a935e91b02ea71a1ef4f0ef2ccddca\", \"selected\": true, \"size\": {\"height\": 1686, \"width\": 2500}},\n",
       " {\"areas\": [{\"action\": {\"data\": \"menu=rich_menu_sbl\", \"text\": \"\\u6211\\u8981\\u770bSBL\", \"type\": \"postback\"}, \"bounds\": {\"height\": 921, \"width\": 990, \"x\": 4, \"y\": 0}}, {\"action\": {\"data\": \"menu=rich_menu_nba\", \"text\": \"\\u6211\\u8981\\u770bNBA\", \"type\": \"postback\"}, \"bounds\": {\"height\": 905, \"width\": 1043, \"x\": 994, \"y\": 8}}, {\"action\": {\"data\": \"menu=rich_menu_cpbl\", \"text\": \"\\u6211\\u8981\\u770b\\u4e2d\\u83ef\\u8077\\u68d2\", \"type\": \"postback\"}, \"bounds\": {\"height\": 723, \"width\": 986, \"x\": 4, \"y\": 921}}, {\"action\": {\"data\": \"menu=rich_menu_mlb\", \"text\": \"\\u6211\\u8981\\u770bMLB\", \"type\": \"postback\"}, \"bounds\": {\"height\": 732, \"width\": 1051, \"x\": 990, \"y\": 917}}], \"chatBarText\": \"\\u67e5\\u770b\\u66f4\\u591a\\u8cc7\\u8a0a\", \"name\": \"\\u5716\\u6587\\u9078\\u55ae 4\", \"richMenuId\": \"richmenu-b7bd1ace63187a6d21c8a1ca6e985ba4\", \"selected\": true, \"size\": {\"height\": 1686, \"width\": 2500}},\n",
       " {\"areas\": [{\"action\": {\"text\": \"\\u6211\\u60f3\\u770b\\u4eca\\u5929sbl\\u7684\\u8cfd\\u7a0b\", \"type\": \"message\"}, \"bounds\": {\"height\": 836, \"width\": 836, \"x\": 4, \"y\": 0}}, {\"action\": {\"text\": \"\\u6211\\u60f3\\u770b\\u4eca\\u5929sbl\\u6bd4\\u5206\", \"type\": \"message\"}, \"bounds\": {\"height\": 832, \"width\": 832, \"x\": 841, \"y\": 4}}, {\"action\": {\"text\": \"\\u6211\\u8981\\u770bsbl\\u6230\\u7e3e\\u6392\\u884c\", \"type\": \"message\"}, \"bounds\": {\"height\": 828, \"width\": 836, \"x\": 1664, \"y\": 8}}, {\"action\": {\"text\": \"\\u6211\\u60f3\\u770b\\u4eca\\u5929sbl\\u7684\\u8cfd\\u4e8b\", \"type\": \"message\"}, \"bounds\": {\"height\": 842, \"width\": 844, \"x\": 5, \"y\": 828}}, {\"action\": {\"text\": \"\\u6211\\u60f3\\u8981\\u770b\\u4f60\\u767c\\u529f\\u9810\\u6e2c!!\", \"type\": \"message\"}, \"bounds\": {\"height\": 832, \"width\": 820, \"x\": 844, \"y\": 836}}, {\"action\": {\"data\": \"menu=rich_menu_index\", \"text\": \"\\u6211\\u8981\\u770b\\u5225\\u7684\\u806f\\u76df\", \"type\": \"postback\"}, \"bounds\": {\"height\": 836, \"width\": 836, \"x\": 1660, \"y\": 832}}], \"chatBarText\": \"\\u67e5\\u770b\\u66f4\\u591a\\u8cc7\\u8a0a\", \"name\": \"\\u5716\\u6587\\u9078\\u55ae 3\", \"richMenuId\": \"richmenu-e96f638ba4c946a7764da5459ea1f70f\", \"selected\": true, \"size\": {\"height\": 1686, \"width\": 2500}},\n",
       " {\"areas\": [{\"action\": {\"text\": \"\\u6211\\u60f3\\u770b\\u4eca\\u5929MLB\\u7684\\u8cfd\\u7a0b\", \"type\": \"message\"}, \"bounds\": {\"height\": 836, \"width\": 836, \"x\": 4, \"y\": 0}}, {\"action\": {\"text\": \"\\u6211\\u60f3\\u770b\\u4eca\\u5929MLB\\u6bd4\\u5206\", \"type\": \"message\"}, \"bounds\": {\"height\": 832, \"width\": 832, \"x\": 841, \"y\": 4}}, {\"action\": {\"text\": \"\\u6211\\u8981\\u770bMLB\\u6230\\u7e3e\\u6392\\u884c\", \"type\": \"message\"}, \"bounds\": {\"height\": 828, \"width\": 836, \"x\": 1664, \"y\": 8}}, {\"action\": {\"text\": \"\\u6211\\u60f3\\u770b\\u4eca\\u5929MLB\\u7684\\u8cfd\\u4e8b\", \"type\": \"message\"}, \"bounds\": {\"height\": 842, \"width\": 844, \"x\": 5, \"y\": 828}}, {\"action\": {\"text\": \"\\u6211\\u60f3\\u8981\\u770b\\u4f60\\u767c\\u529f\\u9810\\u6e2cMLB!!\", \"type\": \"message\"}, \"bounds\": {\"height\": 832, \"width\": 820, \"x\": 844, \"y\": 836}}, {\"action\": {\"data\": \"menu=rich_menu_index\", \"text\": \"\\u6211\\u8981\\u770b\\u5225\\u7684\\u806f\\u76df\", \"type\": \"postback\"}, \"bounds\": {\"height\": 836, \"width\": 836, \"x\": 1660, \"y\": 832}}], \"chatBarText\": \"\\u67e5\\u770b\\u66f4\\u591a\\u8cc7\\u8a0a\", \"name\": \"\\u5716\\u6587\\u9078\\u55ae 3\", \"richMenuId\": \"richmenu-3f20af1494d4d03c69bc29aa8b09fdbe\", \"selected\": true, \"size\": {\"height\": 1686, \"width\": 2500}},\n",
       " {\"areas\": [{\"action\": {\"text\": \"\\u6211\\u60f3\\u770b\\u4eca\\u5929NBA\\u7684\\u8cfd\\u7a0b\", \"type\": \"message\"}, \"bounds\": {\"height\": 836, \"width\": 836, \"x\": 4, \"y\": 0}}, {\"action\": {\"text\": \"\\u6211\\u60f3\\u770b\\u4eca\\u5929NBA\\u6bd4\\u5206\", \"type\": \"message\"}, \"bounds\": {\"height\": 832, \"width\": 832, \"x\": 841, \"y\": 4}}, {\"action\": {\"text\": \"\\u6211\\u8981\\u770bNBA\\u6230\\u7e3e\\u6392\\u884c\", \"type\": \"message\"}, \"bounds\": {\"height\": 828, \"width\": 836, \"x\": 1664, \"y\": 8}}, {\"action\": {\"text\": \"\\u6211\\u60f3\\u770b\\u4eca\\u5929NBA\\u7684\\u8cfd\\u4e8b\", \"type\": \"message\"}, \"bounds\": {\"height\": 842, \"width\": 844, \"x\": 5, \"y\": 828}}, {\"action\": {\"text\": \"\\u6211\\u60f3\\u8981\\u770b\\u4f60\\u767c\\u529f\\u9810\\u6e2cNBA!!\", \"type\": \"message\"}, \"bounds\": {\"height\": 832, \"width\": 820, \"x\": 844, \"y\": 836}}, {\"action\": {\"data\": \"menu=rich_menu_index\", \"text\": \"\\u6211\\u8981\\u770b\\u5225\\u7684\\u806f\\u76df\", \"type\": \"postback\"}, \"bounds\": {\"height\": 836, \"width\": 836, \"x\": 1660, \"y\": 832}}], \"chatBarText\": \"\\u67e5\\u770b\\u66f4\\u591a\\u8cc7\\u8a0a\", \"name\": \"\\u5716\\u6587\\u9078\\u55ae 3\", \"richMenuId\": \"richmenu-615ac12234b9e2b7f2d539916aae1a2d\", \"selected\": true, \"size\": {\"height\": 1686, \"width\": 2500}}]"
      ]
     },
     "execution_count": 50,
     "metadata": {},
     "output_type": "execute_result"
    }
   ],
   "source": [
    "'''\n",
    "\n",
    "查詢帳號內擁有的richmenu \n",
    "\n",
    "'''\n",
    "\n",
    "from linebot import (\n",
    "    LineBotApi\n",
    ")\n",
    "\n",
    "import json\n",
    "\n",
    "secretFileContentJson=json.load(open(\"./line_secret_key\",'r',encoding='utf8'))\n",
    "line_bot_api = LineBotApi(secretFileContentJson.get(\"channel_access_token\"))\n",
    "\n",
    "line_bot_api.get_rich_menu_list()\n"
   ]
  },
  {
   "cell_type": "code",
   "execution_count": 4,
   "metadata": {},
   "outputs": [
    {
     "ename": "FileNotFoundError",
     "evalue": "[Errno 2] No such file or directory: 'material/rich_menu_0/rich_menu_id'",
     "output_type": "error",
     "traceback": [
      "\u001b[1;31m---------------------------------------------------------------------------\u001b[0m",
      "\u001b[1;31mFileNotFoundError\u001b[0m                         Traceback (most recent call last)",
      "\u001b[1;32m<ipython-input-4-6d4f45f3f37a>\u001b[0m in \u001b[0;36m<module>\u001b[1;34m\u001b[0m\n\u001b[0;32m     19\u001b[0m \u001b[1;33m\u001b[0m\u001b[0m\n\u001b[0;32m     20\u001b[0m     \u001b[1;31m# 讀取rich_menu_id檔案，並告知 Line 進行刪除，並在刪除後，把本地檔案內容清除\u001b[0m\u001b[1;33m\u001b[0m\u001b[1;33m\u001b[0m\u001b[1;33m\u001b[0m\u001b[0m\n\u001b[1;32m---> 21\u001b[1;33m     \u001b[1;32mwith\u001b[0m \u001b[0mopen\u001b[0m\u001b[1;33m(\u001b[0m\u001b[1;34m\"material/\"\u001b[0m\u001b[1;33m+\u001b[0m\u001b[0mrich_menu_name\u001b[0m\u001b[1;33m+\u001b[0m\u001b[1;34m'/rich_menu_id'\u001b[0m\u001b[1;33m,\u001b[0m \u001b[1;34m'r'\u001b[0m\u001b[1;33m,\u001b[0m\u001b[0mencoding\u001b[0m\u001b[1;33m=\u001b[0m\u001b[1;34m'utf8'\u001b[0m\u001b[1;33m)\u001b[0m \u001b[1;32mas\u001b[0m \u001b[0mmyfile\u001b[0m\u001b[1;33m:\u001b[0m\u001b[1;33m\u001b[0m\u001b[1;33m\u001b[0m\u001b[0m\n\u001b[0m\u001b[0;32m     22\u001b[0m         \u001b[0mrich_menu_id\u001b[0m \u001b[1;33m=\u001b[0m \u001b[0mmyfile\u001b[0m\u001b[1;33m.\u001b[0m\u001b[0mread\u001b[0m\u001b[1;33m(\u001b[0m\u001b[1;33m)\u001b[0m\u001b[1;33m\u001b[0m\u001b[1;33m\u001b[0m\u001b[0m\n\u001b[0;32m     23\u001b[0m         \u001b[0mdeleteResult\u001b[0m \u001b[1;33m=\u001b[0m \u001b[0mline_bot_api\u001b[0m\u001b[1;33m.\u001b[0m\u001b[0mdelete_rich_menu\u001b[0m\u001b[1;33m(\u001b[0m\u001b[0mrich_menu_id\u001b[0m\u001b[1;33m)\u001b[0m\u001b[1;33m\u001b[0m\u001b[1;33m\u001b[0m\u001b[0m\n",
      "\u001b[1;31mFileNotFoundError\u001b[0m: [Errno 2] No such file or directory: 'material/rich_menu_0/rich_menu_id'"
     ]
    }
   ],
   "source": [
    "'''\n",
    "\n",
    "移除帳號內的richmenu\n",
    "\n",
    "'''\n",
    "\n",
    "from linebot import (\n",
    "    LineBotApi\n",
    ")\n",
    "\n",
    "import json\n",
    "secretFileContentJson=json.load(open(\"./line_secret_key\",'r',encoding='utf8'))\n",
    "line_bot_api = LineBotApi(secretFileContentJson.get(\"channel_access_token\"))\n",
    "\n",
    "# 設定要移除的rich_menu\n",
    "rich_menu_name_array = [\"rich_menu_0\"]\n",
    "\n",
    "for rich_menu_name in rich_menu_name_array:\n",
    "    \n",
    "    # 讀取rich_menu_id檔案，並告知 Line 進行刪除，並在刪除後，把本地檔案內容清除\n",
    "    with open(\"material/\"+rich_menu_name+'/rich_menu_id', 'r',encoding='utf8') as myfile:\n",
    "        rich_menu_id = myfile.read()\n",
    "        deleteResult = line_bot_api.delete_rich_menu(rich_menu_id)\n",
    "        print(deleteResult)\n",
    "        \n",
    "    f = open(\"material/\"+rich_menu_name+\"/rich_menu_id\", \"w\")\n",
    "    f.write('')\n",
    "    f.close() "
   ]
  },
  {
   "cell_type": "code",
   "execution_count": null,
   "metadata": {},
   "outputs": [],
   "source": [
    "'''\n",
    "\n",
    "解除用戶綁定\n",
    "\n",
    "'''\n",
    "\n",
    "from linebot import (\n",
    "    LineBotApi\n",
    ")\n",
    "\n",
    "import json\n",
    "\n",
    "# rich_menu_id_array = [\"rich_menu_0\"]\n",
    "\n",
    "secretFileContentJson=json.load(open(\"./line_secret_key\",'r',encoding='utf8'))\n",
    "line_bot_api = LineBotApi(secretFileContentJson.get(\"channel_access_token\"))\n",
    "\n",
    "self_user_id='Ud29c5cf085e845db7c6457677116df4d'\n",
    "line_bot_api.unlink_rich_menu_from_user(self_user_id)"
   ]
  },
  {
   "cell_type": "code",
   "execution_count": null,
   "metadata": {},
   "outputs": [],
   "source": [
    "'''\n",
    "\n",
    "綁定個人用戶進行測試\n",
    "\n",
    "'''\n",
    "\n",
    "from linebot import (\n",
    "    LineBotApi\n",
    ")\n",
    "\n",
    "import json\n",
    "\n",
    "# rich_menu_id_array = [\"rich_menu_0\"]\n",
    "\n",
    "secretFileContentJson=json.load(open(\"./line_secret_key\",'r',encoding='utf8'))\n",
    "line_bot_api = LineBotApi(secretFileContentJson.get(\"channel_access_token\"))\n",
    "\n",
    "self_user_id='Ud29c5cf085e845db7c6457677116df4d'\n",
    "rich_menu_id='richmenu-62d1b8717117640cdb9910e273452d35'\n",
    "\n",
    "line_bot_api.unlink_rich_menu_from_user(self_user_id)\n",
    "line_bot_api.link_rich_menu_to_user(self_user_id,rich_menu_id)"
   ]
  },
  {
   "cell_type": "code",
   "execution_count": null,
   "metadata": {},
   "outputs": [],
   "source": []
  }
 ],
 "metadata": {
  "kernelspec": {
   "display_name": "Python 3",
   "language": "python",
   "name": "python3"
  },
  "language_info": {
   "codemirror_mode": {
    "name": "ipython",
    "version": 3
   },
   "file_extension": ".py",
   "mimetype": "text/x-python",
   "name": "python",
   "nbconvert_exporter": "python",
   "pygments_lexer": "ipython3",
   "version": "3.8.3"
  }
 },
 "nbformat": 4,
 "nbformat_minor": 4
}
