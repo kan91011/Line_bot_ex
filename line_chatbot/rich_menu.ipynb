{
 "cells": [
  {
   "cell_type": "code",
   "execution_count": 1,
   "metadata": {},
   "outputs": [],
   "source": [
    "'''\n",
    "\n",
    "輸入圖文選單的資料夾名，若已創建過的，請勿輸入，避免重複創造\n",
    "\n",
    "圖文選單千萬不能有rich_menu_名稱  []  很重要因為機器人會死**********\n",
    "'''\n",
    "\n",
    "rich_menu_array=['rich_menu_ex','rich_menu_index','follow']\n"
   ]
  },
  {
   "cell_type": "code",
   "execution_count": 2,
   "metadata": {},
   "outputs": [
    {
     "name": "stdout",
     "output_type": "stream",
     "text": [
      "-設定檔上傳結果\n",
      "richmenu-f7c0bda924e05ec1957fcd26da1f290a\n",
      "-圖片上傳結果\n",
      "None\n",
      "-設定檔上傳結果\n",
      "richmenu-a9a36ca18ecffff3a537427320afbdf3\n",
      "-圖片上傳結果\n",
      "None\n",
      "-設定檔上傳結果\n",
      "richmenu-6ec07b0b3d42cf9f93bb347d990fc1ed\n",
      "-圖片上傳結果\n",
      "None\n"
     ]
    }
   ],
   "source": [
    "'''\n",
    "迴圈讀取本地列表，\n",
    "    上傳設定檔，取得id，並將id寫入檔案中，而後上傳圖片\n",
    "\n",
    "'''\n",
    "\n",
    "import json\n",
    "from linebot import LineBotApi\n",
    "\n",
    "# 載入安全設定檔\n",
    "secretFileContentJson=json.load(open(\"./line_secret_key\",'r',encoding='utf8'))\n",
    "line_bot_api = LineBotApi(secretFileContentJson.get(\"channel_access_token\"))\n",
    "\n",
    "from linebot.models import RichMenu\n",
    "\n",
    "for rich_menu_name in rich_menu_array:\n",
    "\n",
    "    \n",
    "    # 創建菜單，取得menuId\n",
    "    lineRichMenuId = line_bot_api.create_rich_menu(rich_menu=RichMenu.new_from_json_dict(json.load(open(\"material/\"+rich_menu_name+'/rich_menu.json','r',encoding='utf8'))))\n",
    "    print(\"-設定檔上傳結果\")\n",
    "    print(lineRichMenuId)\n",
    "\n",
    "                                           \n",
    "    # id寫入本地端                              \n",
    "    f = open(\"material/\"+rich_menu_name+\"/rich_menu_id\", \"w\",encoding='utf8')\n",
    "    f.write(lineRichMenuId)\n",
    "    f.close()                                       \n",
    "    \n",
    "\n",
    "    # 上傳照片至該id\n",
    "    set_image_response=''\n",
    "    with open(\"material/\"+rich_menu_name+'/rich_menu.jpg', 'rb') as f:\n",
    "        set_image_response=line_bot_api.set_rich_menu_image(lineRichMenuId, 'image/jpeg', f)\n",
    "        \n",
    "    print(\"-圖片上傳結果\")                                               \n",
    "    print(set_image_response)\n",
    "                                                                 \n"
   ]
  },
  {
   "cell_type": "code",
   "execution_count": 3,
   "metadata": {},
   "outputs": [
    {
     "data": {
      "text/plain": [
       "[{\"areas\": [{\"action\": {\"type\": \"uri\", \"uri\": \"https://www.tipo.gov.tw/tw/lp-85-1.html\"}, \"bounds\": {\"height\": 199, \"width\": 917, \"x\": 823, \"y\": 262}}, {\"action\": {\"type\": \"uri\", \"uri\": \"https://twtmsearch.tipo.gov.tw/OS0/OS0201.jsp?l6=zh_TW&isReadBulletinen_US=&isReadBulletinzh_TW=true\"}, \"bounds\": {\"height\": 208, \"width\": 633, \"x\": 795, \"y\": 590}}, {\"action\": {\"type\": \"uri\", \"uri\": \"https://topic.tipo.gov.tw/patents-tw/lp-712-101.html\"}, \"bounds\": {\"height\": 199, \"width\": 629, \"x\": 819, \"y\": 899}}, {\"action\": {\"type\": \"uri\", \"uri\": \"http://www.duandpartners.com.tw/page/about/index.aspx?kind=6&lang=TW\"}, \"bounds\": {\"height\": 203, \"width\": 600, \"x\": 834, \"y\": 1205}}, {\"action\": {\"data\": \"menu=rich_menu_index\", \"text\": \"\\u76ee\\u9304\", \"type\": \"postback\"}, \"bounds\": {\"height\": 494, \"width\": 474, \"x\": 1890, \"y\": 963}}], \"chatBarText\": \"~\\u4e8b\\u52d9\\u6240~\", \"name\": \"\\u76ee\\u9304\", \"richMenuId\": \"richmenu-f7c0bda924e05ec1957fcd26da1f290a\", \"selected\": true, \"size\": {\"height\": 1686, \"width\": 2500}},\n",
       " {\"areas\": [{\"action\": {\"type\": \"uri\", \"uri\": \"https://line.me/R/nv/camera/\"}, \"bounds\": {\"height\": 688, \"width\": 558, \"x\": 145, \"y\": 749}}, {\"action\": {\"data\": \"menu=rich_menu_ex\", \"text\": \"\\u76ee\\u9304\", \"type\": \"postback\"}, \"bounds\": {\"height\": 669, \"width\": 621, \"x\": 862, \"y\": 778}}, {\"action\": {\"type\": \"uri\", \"uri\": \"https://line.me/R/nv/location/\"}, \"bounds\": {\"height\": 741, \"width\": 601, \"x\": 1623, \"y\": 701}}], \"chatBarText\": \"~\\u4e8b\\u52d9\\u6240~\", \"name\": \"\\u5716\\u6587\\u9078\\u55ae 4\", \"richMenuId\": \"richmenu-a9a36ca18ecffff3a537427320afbdf3\", \"selected\": true, \"size\": {\"height\": 1686, \"width\": 2500}},\n",
       " {\"areas\": [{\"action\": {\"type\": \"uri\", \"uri\": \"https://line.me/R/nv/camera/\"}, \"bounds\": {\"height\": 688, \"width\": 558, \"x\": 145, \"y\": 749}}, {\"action\": {\"data\": \"menu=rich_menu_index\", \"text\": \"\\u76ee\\u9304\", \"type\": \"postback\"}, \"bounds\": {\"height\": 669, \"width\": 621, \"x\": 862, \"y\": 778}}, {\"action\": {\"type\": \"uri\", \"uri\": \"https://line.me/R/nv/location/\"}, \"bounds\": {\"height\": 741, \"width\": 601, \"x\": 1623, \"y\": 701}}], \"chatBarText\": \"~\\u4e8b\\u52d9\\u6240~\", \"name\": \"\\u5716\\u6587\\u9078\\u55ae 4\", \"richMenuId\": \"richmenu-6ec07b0b3d42cf9f93bb347d990fc1ed\", \"selected\": true, \"size\": {\"height\": 1686, \"width\": 2500}}]"
      ]
     },
     "execution_count": 3,
     "metadata": {},
     "output_type": "execute_result"
    }
   ],
   "source": [
    "'''\n",
    "\n",
    "查詢帳號內擁有的richmenu \n",
    "\n",
    "'''\n",
    "\n",
    "from linebot import (\n",
    "    LineBotApi\n",
    ")\n",
    "\n",
    "import json\n",
    "\n",
    "secretFileContentJson=json.load(open(\"./line_secret_key\",'r',encoding='utf8'))\n",
    "line_bot_api = LineBotApi(secretFileContentJson.get(\"channel_access_token\"))\n",
    "\n",
    "line_bot_api.get_rich_menu_list()\n"
   ]
  },
  {
   "cell_type": "code",
   "execution_count": null,
   "metadata": {},
   "outputs": [],
   "source": [
    "'''\n",
    "\n",
    "移除帳號內的richmenu\n",
    "\n",
    "'''\n",
    "\n",
    "from linebot import (\n",
    "    LineBotApi\n",
    ")\n",
    "\n",
    "import json\n",
    "secretFileContentJson=json.load(open(\"./line_secret_key\",'r',encoding='utf8'))\n",
    "line_bot_api = LineBotApi(secretFileContentJson.get(\"channel_access_token\"))\n",
    "\n",
    "# 設定要移除的rich_menu\n",
    "rich_menu_name_array = [\"rich_menu_0\"]\n",
    "\n",
    "for rich_menu_name in rich_menu_name_array:\n",
    "    \n",
    "    # 讀取rich_menu_id檔案，並告知 Line 進行刪除，並在刪除後，把本地檔案內容清除\n",
    "    with open(\"material/\"+rich_menu_name+'/rich_menu_id', 'r',encoding='utf8') as myfile:\n",
    "        rich_menu_id = myfile.read()\n",
    "        deleteResult = line_bot_api.delete_rich_menu(rich_menu_id)\n",
    "        print(deleteResult)\n",
    "        \n",
    "    f = open(\"material/\"+rich_menu_name+\"/rich_menu_id\", \"w\")\n",
    "    f.write('')\n",
    "    f.close() "
   ]
  },
  {
   "cell_type": "code",
   "execution_count": null,
   "metadata": {},
   "outputs": [],
   "source": [
    "'''\n",
    "\n",
    "解除用戶綁定\n",
    "\n",
    "'''\n",
    "\n",
    "from linebot import (\n",
    "    LineBotApi\n",
    ")\n",
    "\n",
    "import json\n",
    "\n",
    "# rich_menu_id_array = [\"rich_menu_0\"]\n",
    "\n",
    "secretFileContentJson=json.load(open(\"./line_secret_key\",'r',encoding='utf8'))\n",
    "line_bot_api = LineBotApi(secretFileContentJson.get(\"channel_access_token\"))\n",
    "\n",
    "self_user_id='Ud29c5cf085e845db7c6457677116df4d'\n",
    "line_bot_api.unlink_rich_menu_from_user(self_user_id)"
   ]
  },
  {
   "cell_type": "code",
   "execution_count": null,
   "metadata": {},
   "outputs": [],
   "source": [
    "'''\n",
    "\n",
    "綁定個人用戶進行測試\n",
    "\n",
    "'''\n",
    "\n",
    "from linebot import (\n",
    "    LineBotApi\n",
    ")\n",
    "\n",
    "import json\n",
    "\n",
    "# rich_menu_id_array = [\"rich_menu_0\"]\n",
    "\n",
    "secretFileContentJson=json.load(open(\"./line_secret_key\",'r',encoding='utf8'))\n",
    "line_bot_api = LineBotApi(secretFileContentJson.get(\"channel_access_token\"))\n",
    "\n",
    "self_user_id='Ud29c5cf085e845db7c6457677116df4d'\n",
    "rich_menu_id='richmenu-62d1b8717117640cdb9910e273452d35'\n",
    "\n",
    "line_bot_api.unlink_rich_menu_from_user(self_user_id)\n",
    "line_bot_api.link_rich_menu_to_user(self_user_id,rich_menu_id)"
   ]
  },
  {
   "cell_type": "code",
   "execution_count": null,
   "metadata": {},
   "outputs": [],
   "source": []
  }
 ],
 "metadata": {
  "kernelspec": {
   "display_name": "Python 3",
   "language": "python",
   "name": "python3"
  },
  "language_info": {
   "codemirror_mode": {
    "name": "ipython",
    "version": 3
   },
   "file_extension": ".py",
   "mimetype": "text/x-python",
   "name": "python",
   "nbconvert_exporter": "python",
   "pygments_lexer": "ipython3",
   "version": "3.7.4"
  }
 },
 "nbformat": 4,
 "nbformat_minor": 2
}
